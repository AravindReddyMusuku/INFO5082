{
 "cells": [
  {
   "cell_type": "code",
   "execution_count": 1,
   "metadata": {
    "id": "Ya-dSaFDRpls"
   },
   "outputs": [
    {
     "ename": "ModuleNotFoundError",
     "evalue": "No module named 'keras'",
     "output_type": "error",
     "traceback": [
      "\u001b[1;31m---------------------------------------------------------------------------\u001b[0m",
      "\u001b[1;31mModuleNotFoundError\u001b[0m                       Traceback (most recent call last)",
      "\u001b[1;32m<ipython-input-1-1872b9471fc1>\u001b[0m in \u001b[0;36m<module>\u001b[1;34m\u001b[0m\n\u001b[0;32m     12\u001b[0m \u001b[1;32mfrom\u001b[0m \u001b[0msklearn\u001b[0m\u001b[1;33m.\u001b[0m\u001b[0mfeature_extraction\u001b[0m\u001b[1;33m.\u001b[0m\u001b[0mtext\u001b[0m \u001b[1;32mimport\u001b[0m \u001b[0mTfidfVectorizer\u001b[0m\u001b[1;31m#term frequency inverse document frequency...\u001b[0m\u001b[1;33m\u001b[0m\u001b[1;33m\u001b[0m\u001b[0m\n\u001b[0;32m     13\u001b[0m \u001b[1;32mfrom\u001b[0m \u001b[0msklearn\u001b[0m\u001b[1;33m.\u001b[0m\u001b[0mpreprocessing\u001b[0m \u001b[1;32mimport\u001b[0m \u001b[0mLabelEncoder\u001b[0m\u001b[1;33m\u001b[0m\u001b[1;33m\u001b[0m\u001b[0m\n\u001b[1;32m---> 14\u001b[1;33m \u001b[1;32mfrom\u001b[0m \u001b[0mkeras\u001b[0m\u001b[1;33m.\u001b[0m\u001b[0mmodels\u001b[0m \u001b[1;32mimport\u001b[0m \u001b[0mSequential\u001b[0m\u001b[1;33m\u001b[0m\u001b[1;33m\u001b[0m\u001b[0m\n\u001b[0m\u001b[0;32m     15\u001b[0m \u001b[1;32mfrom\u001b[0m \u001b[0mnltk\u001b[0m \u001b[1;32mimport\u001b[0m \u001b[0mword_tokenize\u001b[0m\u001b[1;33m,\u001b[0m\u001b[0msent_tokenize\u001b[0m\u001b[1;33m\u001b[0m\u001b[1;33m\u001b[0m\u001b[0m\n\u001b[0;32m     16\u001b[0m \u001b[1;32mfrom\u001b[0m \u001b[0mkeras\u001b[0m\u001b[1;33m.\u001b[0m\u001b[0mlayers\u001b[0m\u001b[1;33m.\u001b[0m\u001b[0mcore\u001b[0m \u001b[1;32mimport\u001b[0m \u001b[0mDense\u001b[0m\u001b[1;33m,\u001b[0m\u001b[0mActivation\u001b[0m\u001b[1;33m,\u001b[0m\u001b[0mDropout\u001b[0m\u001b[1;33m\u001b[0m\u001b[1;33m\u001b[0m\u001b[0m\n",
      "\u001b[1;31mModuleNotFoundError\u001b[0m: No module named 'keras'"
     ]
    }
   ],
   "source": [
    "import matplotlib.pyplot as plt\n",
    "import numpy as np #numerical python...\n",
    "#panel of data... \n",
    "import pandas as pd\n",
    "# machine learning...\n",
    "from sklearn.model_selection import train_test_split\n",
    "from string import punctuation\n",
    "#natural language toolkit..\n",
    "from nltk.corpus import stopwords\n",
    "import nltk\n",
    "from nltk.stem import WordNetLemmatizer\n",
    "from sklearn.feature_extraction.text import TfidfVectorizer#term frequency inverse document frequency... \n",
    "from sklearn.preprocessing import LabelEncoder\n",
    "from keras.models import Sequential\n",
    "from nltk import word_tokenize,sent_tokenize\n",
    "from keras.layers.core import Dense,Activation,Dropout\n",
    "from sklearn.preprocessing import OneHotEncoder\n",
    "import keras.layers\n",
    "from keras.models import model_from_json\n",
    "import pickle\n",
    "import os\n",
    "from sklearn.preprocessing import normalize\n",
    "from keras.models import Sequential\n",
    "from keras.layers import Dense, Dropout, Flatten, LSTM"
   ]
  },
  {
   "cell_type": "code",
   "execution_count": null,
   "metadata": {
    "colab": {
     "base_uri": "https://localhost:8080/"
    },
    "id": "3eJuz7ZJR98I",
    "outputId": "4ff47c34-a688-4740-cf90-ac216e9deb87"
   },
   "outputs": [],
   "source": [
    "from google.colab import drive\n",
    "drive.mount('/content/drive')"
   ]
  },
  {
   "cell_type": "code",
   "execution_count": 114,
   "metadata": {
    "colab": {
     "base_uri": "https://localhost:8080/"
    },
    "id": "Wq5J-S_KSbyU",
    "outputId": "2e330c46-4cae-4ba6-b8cd-096b8cfe3665"
   },
   "outputs": [
    {
     "name": "stdout",
     "output_type": "stream",
     "text": [
      "[nltk_data] Downloading package wordnet to /root/nltk_data...\n",
      "[nltk_data]   Package wordnet is already up-to-date!\n",
      "[nltk_data] Downloading package punkt to /root/nltk_data...\n",
      "[nltk_data]   Package punkt is already up-to-date!\n",
      "[nltk_data] Downloading package averaged_perceptron_tagger to\n",
      "[nltk_data]     /root/nltk_data...\n",
      "[nltk_data]   Package averaged_perceptron_tagger is already up-to-\n",
      "[nltk_data]       date!\n"
     ]
    }
   ],
   "source": [
    "\n",
    "textdata = [] #list...\n",
    "labels = []\n",
    "import nltk\n",
    "import nltk\n",
    "\n",
    "nltk.download('wordnet')\n",
    "nltk.download('punkt')\n",
    "nltk.download('averaged_perceptron_tagger') \n",
    "\n",
    "lemmatizer = WordNetLemmatizer()"
   ]
  },
  {
   "cell_type": "code",
   "execution_count": 115,
   "metadata": {
    "id": "DgLazD1CSDY0"
   },
   "outputs": [],
   "source": [
    "global filename\n",
    "global X, Y\n",
    "global tfidf_X_train, tfidf_X_test, tfidf_y_train, tfidf_y_test\n",
    "global tfidf_vectorizer\n",
    "global accuracy,error\n",
    "\n",
    "textdata = [] #list...\n",
    "global classifier"
   ]
  },
  {
   "cell_type": "code",
   "execution_count": 116,
   "metadata": {
    "colab": {
     "base_uri": "https://localhost:8080/"
    },
    "id": "mw3SL36rSaFw",
    "outputId": "ec9ef0c2-67c1-4576-8608-3d8c2ef4360f"
   },
   "outputs": [
    {
     "name": "stdout",
     "output_type": "stream",
     "text": [
      "[nltk_data] Downloading package stopwords to /root/nltk_data...\n",
      "[nltk_data]   Package stopwords is already up-to-date!\n",
      "         id keyword  ...                                               text target\n",
      "0         1     NaN  ...  Our Deeds are the Reason of this #earthquake M...      1\n",
      "1         4     NaN  ...             Forest fire near La Ronge Sask. Canada      1\n",
      "2         5     NaN  ...  All residents asked to 'shelter in place' are ...      1\n",
      "3         6     NaN  ...  13,000 people receive #wildfires evacuation or...      1\n",
      "4         7     NaN  ...  Just got sent this photo from Ruby #Alaska as ...      1\n",
      "...     ...     ...  ...                                                ...    ...\n",
      "7608  10869     NaN  ...  Two giant cranes holding a bridge collapse int...      1\n",
      "7609  10870     NaN  ...  @aria_ahrary @TheTawniest The out of control w...      1\n",
      "7610  10871     NaN  ...  M1.94 [01:04 UTC]?5km S of Volcano Hawaii. htt...      1\n",
      "7611  10872     NaN  ...  Police investigating after an e-bike collided ...      1\n",
      "7612  10873     NaN  ...  The Latest: More Homes Razed by Northern Calif...      1\n",
      "\n",
      "[7613 rows x 5 columns]\n",
      "      text\n",
      "0      1.0\n",
      "1      1.0\n",
      "2      1.0\n",
      "3      1.0\n",
      "4      1.0\n",
      "...    ...\n",
      "7608   1.0\n",
      "7609   1.0\n",
      "7610   1.0\n",
      "7611   1.0\n",
      "7612   1.0\n",
      "\n",
      "[7613 rows x 1 columns]\n",
      "(7613, 1)\n",
      "size of X  [[1.]\n",
      " [1.]\n",
      " [1.]\n",
      " ...\n",
      " [1.]\n",
      " [1.]\n",
      " [1.]]\n",
      "size of y  ['target' 'target' 'target' ... 'target' 'target' 'target']\n",
      "(7613, 1)\n",
      "[[0]\n",
      " [0]\n",
      " [0]\n",
      " ...\n",
      " [0]\n",
      " [0]\n",
      " [0]]\n",
      "(7613, 1)\n",
      "(7613, 1, 1)\n",
      "\n",
      "\n",
      "Total News found in dataset : 7613\n",
      "\n",
      "Total records used to train machine learning algorithms : 6090\n",
      "\n",
      "Total records used to test machine learning algorithms  : 1523\n",
      "\n"
     ]
    }
   ],
   "source": [
    "clean=' '\n",
    "labels=[]\n",
    "textdata=[]\n",
    "stop_words=nltk.download('stopwords')\n",
    "dataset = pd.read_csv('/content/drive/MyDrive/Content/TwitterNewsData/news.csv')\n",
    "print(dataset)\n",
    "dataset = dataset.fillna(' ')\n",
    "for i in range(len(dataset)):\n",
    "      msg = dataset.get(i, 'text')\n",
    "      label = dataset.get(i, 'target')\n",
    "      msg = str(msg)\n",
    "      msg = msg.strip().lower()\n",
    "      labels.append(label)\n",
    "      tokens = msg.split()\n",
    "      table = str.maketrans('', '', punctuation)\n",
    "      tokens = [w.translate(table) for w in tokens]\n",
    "      tokens = [word for word in tokens if word.isalpha()]\n",
    "      #tokens = [w for w in tokens if not w in stop_words]\n",
    "      tokens = [word for word in tokens if len(word) > 1]\n",
    "      tokens = [lemmatizer.lemmatize(token) for token in tokens]\n",
    "      tokens = ' '.join(tokens)\n",
    "      textdata.append(tokens)\n",
    "      #print(textdata)\n",
    "stopwords=stopwords = nltk.corpus.stopwords.words(\"english\")\n",
    "tfidf_vectorizer = TfidfVectorizer(stop_words=stopwords, use_idf=True, ngram_range=(1,2),smooth_idf=False, norm=None, decode_error='replace', max_features=200)\n",
    "tfidf = tfidf_vectorizer.fit_transform(textdata).toarray()        \n",
    "df = pd.DataFrame(tfidf, columns=tfidf_vectorizer.get_feature_names())\n",
    "print(str(df))\n",
    "print(df.shape)\n",
    "df = df.values\n",
    "X = df[:, 0:df.shape[1]]\n",
    "X = normalize(X)\n",
    "print(\"size of X \",X)\n",
    "Y = np.asarray(labels)\n",
    "print(\"size of y \",Y)\n",
    "le = LabelEncoder()\n",
    "Y = le.fit_transform(Y)\n",
    "indices = np.arange(X.shape[0])\n",
    "np.random.shuffle(indices)\n",
    "X = X[indices]\n",
    "Y = Y[indices]\n",
    "Y = Y.reshape(-1, 1)\n",
    "print(X.shape)\n",
    "encoder = OneHotEncoder(sparse=False)\n",
    "X = X.reshape((X.shape[0], X.shape[1], 1))\n",
    "print(Y)\n",
    "print(Y.shape)\n",
    "print(X.shape)\n",
    "tfidf_X_train, tfidf_X_test, tfidf_y_train, tfidf_y_test = train_test_split(X, Y, test_size=0.2)\n",
    "print(\"\\n\\nTotal News found in dataset : \"+str(len(X))+\"\\n\")\n",
    "print(\"Total records used to train machine learning algorithms : \"+str(len(tfidf_X_train))+\"\\n\")\n",
    "print(\"Total records used to test machine learning algorithms  : \"+str(len(tfidf_X_test))+\"\\n\")\n",
    "\n",
    "    "
   ]
  },
  {
   "cell_type": "code",
   "execution_count": 117,
   "metadata": {
    "colab": {
     "base_uri": "https://localhost:8080/"
    },
    "id": "q3WcBvRDk0Cy",
    "outputId": "8863d3f8-9cc5-49b8-e513-fa0a91ba05ca"
   },
   "outputs": [
    {
     "name": "stdout",
     "output_type": "stream",
     "text": [
      "Model: \"sequential_1\"\n",
      "_________________________________________________________________\n",
      "Layer (type)                 Output Shape              Param #   \n",
      "=================================================================\n",
      "lstm_1 (LSTM)                (None, 500, 128)          66560     \n",
      "_________________________________________________________________\n",
      "dropout_1 (Dropout)          (None, 500, 128)          0         \n",
      "_________________________________________________________________\n",
      "lstm_2 (LSTM)                (None, 128)               131584    \n",
      "_________________________________________________________________\n",
      "dropout_2 (Dropout)          (None, 128)               0         \n",
      "_________________________________________________________________\n",
      "dense_1 (Dense)              (None, 32)                4128      \n",
      "_________________________________________________________________\n",
      "dropout_3 (Dropout)          (None, 32)                0         \n",
      "_________________________________________________________________\n",
      "dense_2 (Dense)              (None, 2)                 66        \n",
      "=================================================================\n",
      "Total params: 202,338\n",
      "Trainable params: 202,338\n",
      "Non-trainable params: 0\n",
      "_________________________________________________________________\n",
      "None\n",
      "LSTM Fake News Detection Accuracy : 69.49999928474426\n",
      "\n",
      "\n",
      "LSTM Model Summary can be seen in black console for layer details\n",
      "\n"
     ]
    }
   ],
   "source": [
    "\n",
    "global classifier\n",
    "if os.path.exists('/content/drive/MyDrive/Content/TwitterNewsData/model/model.json'):\n",
    "    with open('/content/drive/MyDrive/Content/TwitterNewsData/model/model.json', \"r\") as json_file:\n",
    "        loaded_model_json = json_file.read()\n",
    "        classifier = model_from_json(loaded_model_json)\n",
    "    classifier.load_weights(\"/content/drive/MyDrive/Content/TwitterNewsData/model/model_weights.h5\")\n",
    "    #classifier._make_predict_function()   \n",
    "    classifier.predict_function\n",
    "    print(classifier.summary())\n",
    "    f = open('/content/drive/MyDrive/Content/TwitterNewsData/model/history.pckl', 'rb')\n",
    "    data = pickle.load(f)\n",
    "    f.close()\n",
    "    acc = data['accuracy']\n",
    "    acc = acc[9] * 100\n",
    "    print(\"LSTM Fake News Detection Accuracy : \"+str(acc)+\"\\n\\n\")\n",
    "    print('LSTM Model Summary can be seen in black console for layer details\\n')\n",
    "    with open('/content/drive/MyDrive/Content/TwitterNewsData/model/model.txt', 'rb') as file:\n",
    "        classifier = pickle.load(file)\n",
    "    file.close()\n",
    "else:\n",
    "    lstm_model = Sequential()\n",
    "    lstm_model.add(LSTM(128, input_shape=(X.shape[1:]), activation='relu', return_sequences=True))\n",
    "    lstm_model.add(Dropout(0.2))\n",
    "\n",
    "    lstm_model.add(LSTM(128, activation='relu'))\n",
    "    lstm_model.add(Dropout(0.2))\n",
    "\n",
    "    lstm_model.add(Dense(32, activation='relu'))\n",
    "    lstm_model.add(Dropout(0.2))\n",
    "\n",
    "    lstm_model.add(Dense(2, activation='softmax'))\n",
    "    \n",
    "    lstm_model.compile(loss='sparse_categorical_crossentropy', optimizer='adam', metrics=['accuracy'])\n",
    "    hist = lstm_model.fit(X, Y, epochs=10, validation_data=(tfidf_X_test, tfidf_y_test))\n",
    "    classifier = lstm_model\n",
    "    classifier.save_weights('model/model_weights.h5')\n",
    "    model_json = classifier.to_json()\n",
    "    with open(\"/content/drive/MyDrive/Content/model/model.json\", \"w\") as json_file:\n",
    "        json_file.write(model_json)\n",
    "    accuracy = hist.history\n",
    "    f = open('/content/drive/MyDrive/Content/model/history.pckl', 'wb')\n",
    "    pickle.dump(accuracy, f)\n",
    "    f.close()\n",
    "    acc = accuracy['accuracy']                \n",
    "    acc = acc[9] * 100\n",
    "    text.insert(END,\"LSTM Accuracy : \"+str(acc)+\"\\n\\n\")\n",
    "    text.insert(END,'LSTM Model Summary can be seen in black console for layer details\\n')\n",
    "    print(lstm_model.summary())"
   ]
  },
  {
   "cell_type": "code",
   "execution_count": 134,
   "metadata": {
    "colab": {
     "base_uri": "https://localhost:8080/",
     "height": 404
    },
    "id": "9z0Fgnyclg8c",
    "outputId": "e6a533dc-3697-4ba7-ad39-317fe6165801"
   },
   "outputs": [
    {
     "data": {
      "image/png": "[encoded data removed]",
      "text/plain": [
       "<Figure size 720x432 with 1 Axes>"
      ]
     },
     "metadata": {
      "needs_background": "light",
      "tags": []
     },
     "output_type": "display_data"
    }
   ],
   "source": [
    "f = open('/content/drive/MyDrive/Content/TwitterNewsData/model/history.pckl', 'rb')\n",
    "data = pickle.load(f)\n",
    "f.close()\n",
    "acc = data['accuracy']\n",
    "loss = data['loss']\n",
    "plt.figure(figsize=(10,6))\n",
    "plt.grid(True)\n",
    "plt.xlabel('Epcchs')\n",
    "plt.ylabel('Accuracy/Loss')\n",
    "plt.plot(acc, 'ro-', color = 'red')\n",
    "plt.plot(loss, 'ro-', color = 'blue')\n",
    "plt.legend(['Accuracy','Loss'], loc='upper left')\n",
    "#plt.xticks(wordloss.index)\n",
    "plt.title('LSTM Model Accuracy & Loss Graph')\n",
    "plt.show()\n"
   ]
  },
  {
   "cell_type": "code",
   "execution_count": 135,
   "metadata": {
    "colab": {
     "base_uri": "https://localhost:8080/"
    },
    "id": "RWOG8rPemA08",
    "outputId": "f8f24c43-8279-4832-f89d-65ed64439018"
   },
   "outputs": [
    {
     "name": "stdout",
     "output_type": "stream",
     "text": [
      "['Wyrmwood: Road of the Dead (2014) was fucking awesome and it had an awesome ending too. Awesome one.'\n",
      " \"Can't believe Ross is dead???????? @emmerdale @MikeParrActor #Emmerdale #summerfate\"\n",
      " 'I will only call or text 2 niggas my bff &amp; my boyfriend ???? I love my boys to death. No other niggas can hold my attention like them ??'\n",
      " \"@KellKane thanks I narrowly averted death that was fun you're right\"\n",
      " '@Eazzy_P we will never know what would have happened but the govt seemed to think that their beliefs warranted the deaths of innocent japs'\n",
      " 'the pastor was not in the scene of the accident......who was the owner of the range rover ?'\n",
      " 'family members of osama bin laden have died in an airplane accident how ironic ?????? mhmmm gov shit i suspect'\n",
      " 'Yesterday road accident texas 2 people died 1 injured..'\n",
      " 'trumph not shot dead yesterday.'\n",
      " 'most of the olymphic games won by indian players'\n",
      " 'in 2020 election obhama won the elections']\n",
      "Wyrmwood: Road of the Dead (2014) was fucking awesome and it had an awesome ending too. Awesome one.\n",
      "[[0.]]\n",
      " == Given news predicted as FAKE\n",
      "\n",
      "\n",
      "Can't believe Ross is dead???????? @emmerdale @MikeParrActor #Emmerdale #summerfate\n",
      "[[0.]]\n",
      " == Given news predicted as FAKE\n",
      "\n",
      "\n",
      "I will only call or text 2 niggas my bff &amp; my boyfriend ???? I love my boys to death. No other niggas can hold my attention like them ??\n",
      "[[1.]]\n",
      " == Given news predicted as FAKE\n",
      "\n",
      "\n",
      "@KellKane thanks I narrowly averted death that was fun you're right\n",
      "[[0.]]\n",
      " == Given news predicted as FAKE\n",
      "\n",
      "\n",
      "@Eazzy_P we will never know what would have happened but the govt seemed to think that their beliefs warranted the deaths of innocent japs\n",
      "[[0.]]\n",
      " == Given news predicted as FAKE\n",
      "\n",
      "\n",
      "the pastor was not in the scene of the accident......who was the owner of the range rover ?\n",
      "[[0.]]\n",
      " == Given news predicted as FAKE\n",
      "\n",
      "\n",
      "family members of osama bin laden have died in an airplane accident how ironic ?????? mhmmm gov shit i suspect\n",
      "[[0.]]\n",
      " == Given news predicted as FAKE\n",
      "\n",
      "\n",
      "Yesterday road accident texas 2 people died 1 injured..\n",
      "[[0.]]\n",
      " == Given news predicted as FAKE\n",
      "\n",
      "\n",
      "trumph not shot dead yesterday.\n",
      "[[0.]]\n",
      " == Given news predicted as FAKE\n",
      "\n",
      "\n",
      "most of the olymphic games won by indian players\n",
      "[[0.]]\n",
      " == Given news predicted as FAKE\n",
      "\n",
      "\n",
      "in 2020 election obhama won the elections\n",
      "[[0.]]\n",
      " == Given news predicted as FAKE\n",
      "\n",
      "\n"
     ]
    }
   ],
   "source": [
    "\n",
    "testData = pd.read_csv('/content/drive/MyDrive/Content/TwitterNewsData/testNews.txt')\n",
    "#text.delete('1.0', END)\n",
    "testData = testData.values\n",
    "testData = testData[:,0]\n",
    "print(testData)\n",
    "for i in range(len(testData)):\n",
    "    msg = testData[i]\n",
    "    msg1 = testData[i]\n",
    "    print(msg)\n",
    "    review = msg.lower()\n",
    "    review = review.strip().lower()\n",
    "    tokens = review.split()\n",
    "    table = str.maketrans('', '', punctuation)\n",
    "    tokens = [w.translate(table) for w in tokens]\n",
    "    tokens = [word for word in tokens if word.isalpha()]\n",
    "    #tokens = [w for w in tokens if not w in stop_words]\n",
    "    tokens = [word for word in tokens if len(word) > 1]\n",
    "    tokens = [lemmatizer.lemmatize(token) for token in tokens]\n",
    "    tokens = ' '.join(tokens)\n",
    "    testReview = tfidf_vectorizer.transform([tokens]).toarray()\n",
    "    print(testReview)\n",
    "    predict=classifier.predict\n",
    "    if predict == 0:\n",
    "        print(\" === Given news predicted as GENUINE\\n\\n\")\n",
    "    else:\n",
    "        print(\" == Given news predicted as FAKE\\n\\n\")"
   ]
  },
  {
   "cell_type": "code",
   "execution_count": null,
   "metadata": {
    "id": "Q50IKR4mmbbF"
   },
   "outputs": [],
   "source": []
  }
 ],
 "metadata": {
  "colab": {
   "collapsed_sections": [],
   "name": "fake_news.ipynb",
   "provenance": []
  },
  "kernelspec": {
   "display_name": "Python 3",
   "language": "python",
   "name": "python3"
  },
  "language_info": {
   "codemirror_mode": {
    "name": "ipython",
    "version": 3
   },
   "file_extension": ".py",
   "mimetype": "text/x-python",
   "name": "python",
   "nbconvert_exporter": "python",
   "pygments_lexer": "ipython3",
   "version": "3.8.8"
  }
 },
 "nbformat": 4,
 "nbformat_minor": 1
}
